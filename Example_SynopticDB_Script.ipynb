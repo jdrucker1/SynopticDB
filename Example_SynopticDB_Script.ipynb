{
 "cells": [
  {
   "cell_type": "markdown",
   "metadata": {},
   "source": [
    "##### Import Necessary Libraries"
   ]
  },
  {
   "cell_type": "code",
   "execution_count": 1,
   "metadata": {},
   "outputs": [
    {
     "name": "stderr",
     "output_type": "stream",
     "text": [
      "/Users/jackdrucker/opt/anaconda3/envs/synoptic/lib/python3.11/site-packages/synoptic/__init__.py:39: UserWarning: Could not import synoptic.accessors\n",
      "  warnings.warn(\"Could not import synoptic.accessors\")\n"
     ]
    }
   ],
   "source": [
    "import datetime as dt\n",
    "from dateutil.relativedelta import relativedelta\n",
    "from SynopticDB import SynopticDB"
   ]
  },
  {
   "cell_type": "markdown",
   "metadata": {},
   "source": [
    "##### Note"
   ]
  },
  {
   "cell_type": "markdown",
   "metadata": {},
   "source": [
    "Any line seen below that has a double hashtag indicates that if you remove the hashtags, it can be run"
   ]
  },
  {
   "cell_type": "markdown",
   "metadata": {},
   "source": [
    "##### Initialize the Database"
   ]
  },
  {
   "cell_type": "code",
   "execution_count": 2,
   "metadata": {},
   "outputs": [],
   "source": [
    "# Create database object\n",
    "#\n",
    "# If you do not specify a folder name in the SynopticDB() arguments,\n",
    "# a database file named synDB.db will be automoatically created. All database\n",
    "# components will be stored there\n",
    "#\n",
    "db = SynopticDB()\n",
    "#\n",
    "# To specify your own folder name, just call it in the argument SynopticDB(\"fileName\")\n",
    "#\n",
    "## db = SynopticDB('CA_SYN')\n",
    "#\n",
    "# You can also specify a path where you want the database stored\n",
    "#\n",
    "## db = SynopticDB('/some/path/dbName')\n",
    "#"
   ]
  },
  {
   "cell_type": "markdown",
   "metadata": {},
   "source": [
    "##### Customize Query Parameters"
   ]
  },
  {
   "cell_type": "code",
   "execution_count": 3,
   "metadata": {},
   "outputs": [],
   "source": [
    "# By default, you can run the get_synData function and it will insert all of the data from the United States from the past hour into the database.\n",
    "# You can customize what is retrieved by customizing the query parameters as seen below.\n",
    "#\n",
    "# These are all of the possible query parameters you can alter: \n",
    "# 'endDatetime', 'startDatetime', 'stationIDs', 'networks', 'minLatitude', 'maxLatitude', \n",
    "# 'minLongitude', 'maxLongitude', 'states', 'networks', 'vars', 'makeFile'\n",
    "#\n",
    "now = dt.datetime.now()\n",
    "db.params['startDatetime'] = now - relativedelta(hours=3)\n",
    "db.params['endDatetime'] = now - relativedelta(hours=2)\n",
    "##db.params['minLatitude'] = 32\n",
    "##db.params[\"maxLatitude\"] = 34\n",
    "##db.params[\"minLongitude\"] = -122\n",
    "##db.params[\"maxLongitude\"] = -117\n",
    "##db.params[\"vars\"] = ['air_temp']\n",
    "## db.init_params() # This will reset the query parameters\n",
    "# 36 min first run\n",
    "# "
   ]
  },
  {
   "cell_type": "markdown",
   "metadata": {},
   "source": [
    "##### Get the Data from Synoptic"
   ]
  },
  {
   "cell_type": "code",
   "execution_count": 4,
   "metadata": {},
   "outputs": [
    {
     "name": "stderr",
     "output_type": "stream",
     "text": [
      "2023-11-27 14:05:08,067 - INFO - getting data between 2023-11-27 11:05:05.551458 and 2023-11-27 12:05:05.551458\n"
     ]
    }
   ],
   "source": [
    "db.get_synData()"
   ]
  },
  {
   "cell_type": "code",
   "execution_count": 3,
   "metadata": {},
   "outputs": [
    {
     "name": "stdout",
     "output_type": "stream",
     "text": [
      "None\n"
     ]
    },
    {
     "ename": "SynopticError",
     "evalue": "No data was found in the database with the given parameters",
     "output_type": "error",
     "traceback": [
      "\u001b[0;31m---------------------------------------------------------------------------\u001b[0m",
      "\u001b[0;31mSynopticError\u001b[0m                             Traceback (most recent call last)",
      "\u001b[1;32m/Users/jackdrucker/Documents/GitHub/SynopticDB/Example_SynopticDB_Script.ipynb Cell 11\u001b[0m line \u001b[0;36m8\n\u001b[1;32m      <a href='vscode-notebook-cell:/Users/jackdrucker/Documents/GitHub/SynopticDB/Example_SynopticDB_Script.ipynb#X16sZmlsZQ%3D%3D?line=5'>6</a>\u001b[0m db\u001b[39m.\u001b[39mparams[\u001b[39m'\u001b[39m\u001b[39mstates\u001b[39m\u001b[39m'\u001b[39m] \u001b[39m=\u001b[39m \u001b[39m'\u001b[39m\u001b[39mCA\u001b[39m\u001b[39m'\u001b[39m\n\u001b[1;32m      <a href='vscode-notebook-cell:/Users/jackdrucker/Documents/GitHub/SynopticDB/Example_SynopticDB_Script.ipynb#X16sZmlsZQ%3D%3D?line=6'>7</a>\u001b[0m db\u001b[39m.\u001b[39mparams[\u001b[39m'\u001b[39m\u001b[39mmakeFile\u001b[39m\u001b[39m'\u001b[39m] \u001b[39m=\u001b[39m \u001b[39mFalse\u001b[39;00m\n\u001b[0;32m----> <a href='vscode-notebook-cell:/Users/jackdrucker/Documents/GitHub/SynopticDB/Example_SynopticDB_Script.ipynb#X16sZmlsZQ%3D%3D?line=7'>8</a>\u001b[0m dfData, dfStations \u001b[39m=\u001b[39m db\u001b[39m.\u001b[39mquery_db()\n",
      "File \u001b[0;32m~/Documents/GitHub/SynopticDB/SynopticDB.py:324\u001b[0m, in \u001b[0;36mSynopticDB.query_db\u001b[0;34m(self)\u001b[0m\n\u001b[1;32m    322\u001b[0m \u001b[39mprint\u001b[39m(result)\n\u001b[1;32m    323\u001b[0m \u001b[39mif\u001b[39;00m result \u001b[39m==\u001b[39m \u001b[39mNone\u001b[39;00m \u001b[39mor\u001b[39;00m result \u001b[39m==\u001b[39m \u001b[39m\"\u001b[39m\u001b[39mNone\u001b[39m\u001b[39m\"\u001b[39m:\n\u001b[0;32m--> 324\u001b[0m     \u001b[39mraise\u001b[39;00m SynopticError(\u001b[39m\"\u001b[39m\u001b[39mNo data was found in the database with the given parameters\u001b[39m\u001b[39m\"\u001b[39m)\n\u001b[1;32m    325\u001b[0m     \u001b[39mreturn\u001b[39;00m \u001b[39mNone\u001b[39;00m, \u001b[39mNone\u001b[39;00m\n\u001b[1;32m    326\u001b[0m \u001b[39mif\u001b[39;00m \u001b[39mlen\u001b[39m(result)\u001b[39m>\u001b[39m\u001b[39m0\u001b[39m:\n",
      "\u001b[0;31mSynopticError\u001b[0m: No data was found in the database with the given parameters"
     ]
    }
   ],
   "source": [
    "now = dt.datetime.now()\n",
    "db.params['startDatetime'] = now - relativedelta(hours=2)\n",
    "db.params['endDatetime'] = now\n",
    "db.params['vars'] = ['air_temp']\n",
    "##db.params['networks'] = 1\n",
    "db.params['states'] = 'CA'\n",
    "db.params['makeFile'] = False\n",
    "dfData, dfStations = db.query_db()"
   ]
  },
  {
   "cell_type": "code",
   "execution_count": 13,
   "metadata": {},
   "outputs": [
    {
     "data": {
      "text/html": [
       "<div>\n",
       "<style scoped>\n",
       "    .dataframe tbody tr th:only-of-type {\n",
       "        vertical-align: middle;\n",
       "    }\n",
       "\n",
       "    .dataframe tbody tr th {\n",
       "        vertical-align: top;\n",
       "    }\n",
       "\n",
       "    .dataframe thead th {\n",
       "        text-align: right;\n",
       "    }\n",
       "</style>\n",
       "<table border=\"1\" class=\"dataframe\">\n",
       "  <thead>\n",
       "    <tr style=\"text-align: right;\">\n",
       "      <th></th>\n",
       "      <th>NETWORK_ID</th>\n",
       "      <th>NETWORK_NAME_SHORT</th>\n",
       "      <th>NETWORK_NAME_LONG</th>\n",
       "    </tr>\n",
       "  </thead>\n",
       "  <tbody>\n",
       "    <tr>\n",
       "      <th>0</th>\n",
       "      <td>1</td>\n",
       "      <td>ASOS/AWOS</td>\n",
       "      <td>ASOS/AWOS</td>\n",
       "    </tr>\n",
       "    <tr>\n",
       "      <th>1</th>\n",
       "      <td>2</td>\n",
       "      <td>RAWS</td>\n",
       "      <td>Interagency Remote Automatic Weather Stations</td>\n",
       "    </tr>\n",
       "    <tr>\n",
       "      <th>2</th>\n",
       "      <td>3</td>\n",
       "      <td>DUGWAY</td>\n",
       "      <td>U.S. Army Dugway Proving Grounds</td>\n",
       "    </tr>\n",
       "    <tr>\n",
       "      <th>3</th>\n",
       "      <td>4</td>\n",
       "      <td>UTAH DOT</td>\n",
       "      <td>Utah Department of Transportation</td>\n",
       "    </tr>\n",
       "    <tr>\n",
       "      <th>4</th>\n",
       "      <td>5</td>\n",
       "      <td>ARL FRD</td>\n",
       "      <td>NOAA Air Resources Laboratory Field Research D...</td>\n",
       "    </tr>\n",
       "    <tr>\n",
       "      <th>...</th>\n",
       "      <td>...</td>\n",
       "      <td>...</td>\n",
       "      <td>...</td>\n",
       "    </tr>\n",
       "    <tr>\n",
       "      <th>333</th>\n",
       "      <td>3024</td>\n",
       "      <td>UMRB-SDSU</td>\n",
       "      <td>Upper Missouri River Basin - South Dakota Stat...</td>\n",
       "    </tr>\n",
       "    <tr>\n",
       "      <th>334</th>\n",
       "      <td>3025</td>\n",
       "      <td>UMRB-UMT</td>\n",
       "      <td>Upper Missouri River Basin - University of Mon...</td>\n",
       "    </tr>\n",
       "    <tr>\n",
       "      <th>335</th>\n",
       "      <td>3026</td>\n",
       "      <td>UMRB-UNL</td>\n",
       "      <td>Upper Missouri River Basin - University of Neb...</td>\n",
       "    </tr>\n",
       "    <tr>\n",
       "      <th>336</th>\n",
       "      <td>3027</td>\n",
       "      <td>UMRB-UWYO</td>\n",
       "      <td>Upper Missouri River Basin - University of Wyo...</td>\n",
       "    </tr>\n",
       "    <tr>\n",
       "      <th>337</th>\n",
       "      <td>3028</td>\n",
       "      <td>MDE</td>\n",
       "      <td>Maryland Department of the Environment</td>\n",
       "    </tr>\n",
       "  </tbody>\n",
       "</table>\n",
       "<p>338 rows × 3 columns</p>\n",
       "</div>"
      ],
      "text/plain": [
       "     NETWORK_ID NETWORK_NAME_SHORT  \\\n",
       "0             1          ASOS/AWOS   \n",
       "1             2               RAWS   \n",
       "2             3             DUGWAY   \n",
       "3             4           UTAH DOT   \n",
       "4             5            ARL FRD   \n",
       "..          ...                ...   \n",
       "333        3024          UMRB-SDSU   \n",
       "334        3025           UMRB-UMT   \n",
       "335        3026           UMRB-UNL   \n",
       "336        3027          UMRB-UWYO   \n",
       "337        3028                MDE   \n",
       "\n",
       "                                     NETWORK_NAME_LONG  \n",
       "0                                            ASOS/AWOS  \n",
       "1        Interagency Remote Automatic Weather Stations  \n",
       "2                     U.S. Army Dugway Proving Grounds  \n",
       "3                    Utah Department of Transportation  \n",
       "4    NOAA Air Resources Laboratory Field Research D...  \n",
       "..                                                 ...  \n",
       "333  Upper Missouri River Basin - South Dakota Stat...  \n",
       "334  Upper Missouri River Basin - University of Mon...  \n",
       "335  Upper Missouri River Basin - University of Neb...  \n",
       "336  Upper Missouri River Basin - University of Wyo...  \n",
       "337             Maryland Department of the Environment  \n",
       "\n",
       "[338 rows x 3 columns]"
      ]
     },
     "execution_count": 13,
     "metadata": {},
     "output_type": "execute_result"
    }
   ],
   "source": [
    "db.check_table('Networks')"
   ]
  },
  {
   "cell_type": "code",
   "execution_count": null,
   "metadata": {},
   "outputs": [],
   "source": []
  }
 ],
 "metadata": {
  "kernelspec": {
   "display_name": "synoptic",
   "language": "python",
   "name": "python3"
  },
  "language_info": {
   "codemirror_mode": {
    "name": "ipython",
    "version": 3
   },
   "file_extension": ".py",
   "mimetype": "text/x-python",
   "name": "python",
   "nbconvert_exporter": "python",
   "pygments_lexer": "ipython3",
   "version": "3.11.0"
  }
 },
 "nbformat": 4,
 "nbformat_minor": 2
}
